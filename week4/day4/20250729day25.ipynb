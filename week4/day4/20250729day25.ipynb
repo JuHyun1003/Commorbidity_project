{
 "cells": [
  {
   "cell_type": "markdown",
   "id": "ac7eff38",
   "metadata": {},
   "source": [
    "# 28일차(2025.07.28)\n",
    "## 개요\n",
    "- 로지스틱 회귀 분석\n",
    "- Day 27 데이터와 변수는 동일, 데이터 수만 증가"
   ]
  },
  {
   "cell_type": "code",
   "execution_count": 2,
   "id": "22f45931",
   "metadata": {},
   "outputs": [],
   "source": [
    "import pandas as pd\n",
    "import numpy as np\n",
    "import random\n",
    "\n",
    "np.random.seed(42)\n",
    "\n",
    "n = 100\n",
    "\n",
    "# 성별 랜덤\n",
    "genders = np.random.choice(['남', '여'], n)\n",
    "\n",
    "# 전공 랜덤\n",
    "majors = np.random.choice(['생명과학', '경영학', '심리학', '화학', '물리학', '컴공', 'AI'], n)\n",
    "\n",
    "# 나이: 20~25세\n",
    "ages = np.random.randint(20, 26, n)\n",
    "\n",
    "# 수면시간: 평균 6.5, std 1\n",
    "sleep_hours = np.round(np.random.normal(6.5, 1, n), 1)\n",
    "sleep_hours = np.clip(sleep_hours, 4, 9)\n",
    "\n",
    "# 하루 공부시간: 평균 2.5, std 1\n",
    "study_hours = np.round(np.random.normal(2.5, 1, n), 1)\n",
    "study_hours = np.clip(study_hours, 0.5, 5)\n",
    "\n",
    "# SNS 사용시간: 평균 2.5, std 1.5\n",
    "sns_hours = np.round(np.random.normal(2.5, 1.5, n), 1)\n",
    "sns_hours = np.clip(sns_hours, 0, 6)\n",
    "\n",
    "# 중간, 기말, 과제 점수 (정규분포 + clipping)\n",
    "midterms = np.clip(np.random.normal(75, 10, n).astype(int), 50, 100)\n",
    "finals = np.clip(np.random.normal(78, 12, n).astype(int), 50, 100)\n",
    "assignments = np.clip(np.random.normal(80, 10, n).astype(int), 50, 100)\n",
    "\n",
    "# 이름은 그냥 학생1~100\n",
    "names = [f'학생{i+1}' for i in range(n)]\n",
    "\n",
    "# 데이터프레임 생성\n",
    "df = pd.DataFrame({\n",
    "    '이름': names,\n",
    "    '성별': genders,\n",
    "    '전공': majors,\n",
    "    '나이': ages,\n",
    "    '수면시간': sleep_hours,\n",
    "    '하루공부시간': study_hours,\n",
    "    'SNS사용시간': sns_hours,\n",
    "    '중간': midterms,\n",
    "    '기말': finals,\n",
    "    '과제': assignments\n",
    "})\n",
    "\n",
    "# 총점 계산\n",
    "df['총점'] = df['중간']*0.3 + df['기말']*0.4 + df['과제']*0.3\n",
    "\n",
    "# 학점 부여\n",
    "def grade(score):\n",
    "    if score >= 90:\n",
    "        return 'A+'\n",
    "    elif score >= 85:\n",
    "        return 'A0'\n",
    "    elif score >= 80:\n",
    "        return 'A-'\n",
    "    elif score >= 75:\n",
    "        return 'B+'\n",
    "    elif score >= 70:\n",
    "        return 'B0'\n",
    "    elif score >= 65:\n",
    "        return 'C+'\n",
    "    elif score >= 60:\n",
    "        return 'C0'\n",
    "    else:\n",
    "        return 'F'\n",
    "\n",
    "df['학점'] = df['총점'].apply(grade)\n",
    "df['A등급여부'] = df['학점'].isin(['A+', 'A0', 'A-']).astype(int)\n",
    "\n",
    "from sklearn.preprocessing import StandardScaler\n",
    "\n",
    "# 범주형 처리\n",
    "df['성별코드'] = df['성별'].map({'남': 0, '여': 1})\n",
    "df = pd.get_dummies(df, columns=['전공'], drop_first=True)\n",
    "\n",
    "#수치형 스케일링\n",
    "scaler = StandardScaler()\n",
    "df[['수면시간', '하루공부시간', 'SNS사용시간', '나이']] = scaler.fit_transform(\n",
    "    df[['수면시간', '하루공부시간', 'SNS사용시간', '나이']]\n",
    ")\n",
    "\n",
    "# 입력변수와 라벨 나누기\n",
    "x = df.drop(columns=['이름', '성별', '중간', '기말', '과제', '총점', '학점', 'A등급여부'])  # 필요없는 거 제거\n",
    "y= df['A등급여부']  # 맨 끝에 붙여서 확인용"
   ]
  },
  {
   "cell_type": "markdown",
   "id": "37396e37",
   "metadata": {},
   "source": [
    "1. 변수 분리"
   ]
  },
  {
   "cell_type": "code",
   "execution_count": 3,
   "id": "3b68f68d",
   "metadata": {},
   "outputs": [],
   "source": [
    "from sklearn.model_selection import train_test_split\n",
    "\n",
    "x_train, x_test, y_train, y_test = train_test_split(x, y, test_size=0.2, random_state=42)"
   ]
  },
  {
   "cell_type": "markdown",
   "id": "042f9021",
   "metadata": {},
   "source": [
    "2. 로지스틱 회귀 모델 학습"
   ]
  },
  {
   "cell_type": "code",
   "execution_count": null,
   "id": "98aed051",
   "metadata": {},
   "outputs": [],
   "source": [
    "from sklearn.linear_model import LogisticRegression\n",
    "model=LogisticRegression()\n",
    "model.fit(x_train, y_train)"
   ]
  },
  {
   "cell_type": "markdown",
   "id": "3098930a",
   "metadata": {},
   "source": [
    "3. 예측 및 성능 평가"
   ]
  },
  {
   "cell_type": "code",
   "execution_count": 6,
   "id": "3f4c5016",
   "metadata": {},
   "outputs": [],
   "source": [
    "from sklearn.metrics import accuracy_score, confusion_matrix, classification_report\n",
    "y_pred = model.predict(x_test)"
   ]
  },
  {
   "cell_type": "code",
   "execution_count": 7,
   "id": "631a0ac8",
   "metadata": {},
   "outputs": [
    {
     "name": "stdout",
     "output_type": "stream",
     "text": [
      "정확도 : 0.75\n",
      "오차 행렬 : \n",
      " [[15  1]\n",
      " [ 4  0]]\n",
      "분류 리포트 : \n",
      "               precision    recall  f1-score   support\n",
      "\n",
      "           0       0.79      0.94      0.86        16\n",
      "           1       0.00      0.00      0.00         4\n",
      "\n",
      "    accuracy                           0.75        20\n",
      "   macro avg       0.39      0.47      0.43        20\n",
      "weighted avg       0.63      0.75      0.69        20\n",
      "\n"
     ]
    }
   ],
   "source": [
    "print('정확도 :', accuracy_score(y_test, y_pred))\n",
    "print('오차 행렬 : \\n', confusion_matrix(y_test, y_pred))\n",
    "print('분류 리포트 : \\n', classification_report(y_test, y_pred))"
   ]
  },
  {
   "cell_type": "markdown",
   "id": "eac58f3a",
   "metadata": {},
   "source": [
    "해석\n",
    "- 정확도 : 0.75\n",
    "    -> 실제로 A가 아닌 애들이 16개, 모두 0으로 찍어도 정확도가 16/20 = 0.8 이므로, 모델의 성능이 매우 떨어짐\n",
    "- 오차 행렬\n",
    "    - **A 등급이 아닌 애들 (0)** : 16명 중 1명만 틀리고 15명 맞춤\n",
    "    - **A 등급인 애들(1)** : 4명 다 틀림\n",
    "- classification report\n",
    "    - precision = 0.00 : 예측한 A등급 중 맞춘게 하나도 없다\n",
    "    - recall = 0.00 : 실제 A등급 중 맞춘게 하나도 없다\n",
    "    - F1 = 0.00 : 존재하지 않는다"
   ]
  }
 ],
 "metadata": {
  "kernelspec": {
   "display_name": "Python 3",
   "language": "python",
   "name": "python3"
  },
  "language_info": {
   "codemirror_mode": {
    "name": "ipython",
    "version": 3
   },
   "file_extension": ".py",
   "mimetype": "text/x-python",
   "name": "python",
   "nbconvert_exporter": "python",
   "pygments_lexer": "ipython3",
   "version": "3.13.5"
  }
 },
 "nbformat": 4,
 "nbformat_minor": 5
}
