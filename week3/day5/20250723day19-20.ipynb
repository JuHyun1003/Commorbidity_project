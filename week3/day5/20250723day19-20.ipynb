{
 "cells": [
  {
   "cell_type": "code",
   "execution_count": 1,
   "id": "77267c16",
   "metadata": {},
   "outputs": [],
   "source": [
    "import pandas as pd\n",
    "import statsmodels.api as sm\n",
    "from statsmodels.stats.outliers_influence import variance_inflation_factor\n",
    "from sklearn.linear_model import LinearRegression\n",
    "from sklearn.feature_selection import RFE, SelectKBest, f_regression\n",
    "from sklearn.metrics import mean_squared_error, r2_score\n",
    "import numpy as np"
   ]
  },
  {
   "cell_type": "markdown",
   "id": "7dd7a8ca",
   "metadata": {},
   "source": [
    "# model2 제작"
   ]
  },
  {
   "cell_type": "markdown",
   "id": "5fddd0eb",
   "metadata": {},
   "source": [
    "model2 변수 설정\n"
   ]
  },
  {
   "cell_type": "code",
   "execution_count": 10,
   "id": "1c4fde9d",
   "metadata": {},
   "outputs": [],
   "source": [
    "df=pd.read_csv('C:/portfolio/code/week3/day3/gym_member.csv')\n",
    "a=df[['운동빈도', '보충제코드', '나이', '성별코드', '월구독료']]\n",
    "a=sm.add_constant(a)\n",
    "b=df['건강점수']"
   ]
  },
  {
   "cell_type": "markdown",
   "id": "0367c027",
   "metadata": {},
   "source": [
    "model2 학습"
   ]
  },
  {
   "cell_type": "code",
   "execution_count": 11,
   "id": "a912549a",
   "metadata": {},
   "outputs": [],
   "source": [
    "model2=sm.OLS(b,a).fit()\n",
    "b_pred = model2.predict(a)"
   ]
  },
  {
   "cell_type": "markdown",
   "id": "bcc12ff2",
   "metadata": {},
   "source": [
    "model2 요약"
   ]
  },
  {
   "cell_type": "code",
   "execution_count": 12,
   "id": "f0dae86b",
   "metadata": {},
   "outputs": [
    {
     "name": "stdout",
     "output_type": "stream",
     "text": [
      "                            OLS Regression Results                            \n",
      "==============================================================================\n",
      "Dep. Variable:                   건강점수   R-squared:                       0.792\n",
      "Model:                            OLS   Adj. R-squared:                  0.781\n",
      "Method:                 Least Squares   F-statistic:                     71.60\n",
      "Date:                Thu, 24 Jul 2025   Prob (F-statistic):           1.58e-30\n",
      "Time:                        14:05:18   Log-Likelihood:                -304.22\n",
      "No. Observations:                 100   AIC:                             620.4\n",
      "Df Residuals:                      94   BIC:                             636.1\n",
      "Df Model:                           5                                         \n",
      "Covariance Type:            nonrobust                                         \n",
      "==============================================================================\n",
      "                 coef    std err          t      P>|t|      [0.025      0.975]\n",
      "------------------------------------------------------------------------------\n",
      "const         49.7464      2.374     20.956      0.000      45.033      54.460\n",
      "운동빈도           3.1600      0.264     11.977      0.000       2.636       3.684\n",
      "보충제코드          3.9416      1.073      3.674      0.000       1.812       6.072\n",
      "나이            -0.0936      0.039     -2.404      0.018      -0.171      -0.016\n",
      "성별코드           0.1219      1.067      0.114      0.909      -1.997       2.240\n",
      "월구독료           0.0002   1.49e-05     13.815      0.000       0.000       0.000\n",
      "==============================================================================\n",
      "Omnibus:                        1.589   Durbin-Watson:                   1.784\n",
      "Prob(Omnibus):                  0.452   Jarque-Bera (JB):                1.310\n",
      "Skew:                           0.090   Prob(JB):                        0.520\n",
      "Kurtosis:                       2.469   Cond. No.                     4.36e+05\n",
      "==============================================================================\n",
      "\n",
      "Notes:\n",
      "[1] Standard Errors assume that the covariance matrix of the errors is correctly specified.\n",
      "[2] The condition number is large, 4.36e+05. This might indicate that there are\n",
      "strong multicollinearity or other numerical problems.\n"
     ]
    }
   ],
   "source": [
    "print(model2.summary())"
   ]
  },
  {
   "cell_type": "markdown",
   "id": "8e13b606",
   "metadata": {},
   "source": [
    "model2 RMSE, R2 측정"
   ]
  },
  {
   "cell_type": "code",
   "execution_count": 14,
   "metadata": {},
   "outputs": [
    {
     "name": "stdout",
     "output_type": "stream",
     "text": [
      "RMSE : 5.069557660790066\n",
      "R2 : 0.7920362407488856\n"
     ]
    }
   ],
   "source": [
    "def raw_predict_ols(df):\n",
    "    mse=mean_squared_error(b, b_pred)\n",
    "    rmse=np.sqrt(mse)\n",
    "    r2=r2_score(b,b_pred)\n",
    "    print('RMSE :', rmse)\n",
    "    print('R2 :', r2)\n",
    "raw_predict_ols(df)"
   ]
  },
  {
   "cell_type": "markdown",
   "id": "44fdc29b",
   "metadata": {},
   "source": [
    "# model3 제작"
   ]
  },
  {
   "cell_type": "markdown",
   "id": "5d1b3858",
   "metadata": {},
   "source": [
    "model3(성별코드 제거) 제작"
   ]
  },
  {
   "cell_type": "code",
   "execution_count": 15,
   "id": "1bc95029",
   "metadata": {},
   "outputs": [],
   "source": [
    "p=df[['운동빈도', '보충제코드', '나이', '월구독료']]\n",
    "z=sm.add_constant(p)\n",
    "q=df['건강점수']\n",
    "model3=sm.OLS(q,z).fit()\n",
    "q_pred=model3.predict(z)"
   ]
  },
  {
   "cell_type": "markdown",
   "id": "9f5065d1",
   "metadata": {},
   "source": [
    "model3 요약"
   ]
  },
  {
   "cell_type": "code",
   "execution_count": 16,
   "id": "27287f09",
   "metadata": {},
   "outputs": [
    {
     "name": "stdout",
     "output_type": "stream",
     "text": [
      "                            OLS Regression Results                            \n",
      "==============================================================================\n",
      "Dep. Variable:                   건강점수   R-squared:                       0.792\n",
      "Model:                            OLS   Adj. R-squared:                  0.783\n",
      "Method:                 Least Squares   F-statistic:                     90.44\n",
      "Date:                Thu, 24 Jul 2025   Prob (F-statistic):           1.56e-31\n",
      "Time:                        14:07:52   Log-Likelihood:                -304.23\n",
      "No. Observations:                 100   AIC:                             618.5\n",
      "Df Residuals:                      95   BIC:                             631.5\n",
      "Df Model:                           4                                         \n",
      "Covariance Type:            nonrobust                                         \n",
      "==============================================================================\n",
      "                 coef    std err          t      P>|t|      [0.025      0.975]\n",
      "------------------------------------------------------------------------------\n",
      "const         49.8095      2.297     21.689      0.000      45.250      54.369\n",
      "운동빈도           3.1573      0.261     12.079      0.000       2.638       3.676\n",
      "보충제코드          3.9478      1.066      3.704      0.000       1.832       6.064\n",
      "나이            -0.0938      0.039     -2.424      0.017      -0.171      -0.017\n",
      "월구독료           0.0002   1.47e-05     14.003      0.000       0.000       0.000\n",
      "==============================================================================\n",
      "Omnibus:                        1.489   Durbin-Watson:                   1.781\n",
      "Prob(Omnibus):                  0.475   Jarque-Bera (JB):                1.255\n",
      "Skew:                           0.085   Prob(JB):                        0.534\n",
      "Kurtosis:                       2.479   Cond. No.                     4.22e+05\n",
      "==============================================================================\n",
      "\n",
      "Notes:\n",
      "[1] Standard Errors assume that the covariance matrix of the errors is correctly specified.\n",
      "[2] The condition number is large, 4.22e+05. This might indicate that there are\n",
      "strong multicollinearity or other numerical problems.\n"
     ]
    }
   ],
   "source": [
    "print(model3.summary())"
   ]
  },
  {
   "cell_type": "markdown",
   "id": "28740564",
   "metadata": {},
   "source": [
    "model3 RMSE, R2 측정"
   ]
  },
  {
   "cell_type": "code",
   "execution_count": 18,
   "id": "c1625e90",
   "metadata": {},
   "outputs": [
    {
     "name": "stdout",
     "output_type": "stream",
     "text": [
      "RMSE : 5.069909672271918\n",
      "R2 : 0.7920073592655179\n"
     ]
    }
   ],
   "source": [
    "def new_predict_ols(df):\n",
    "    mse=mean_squared_error(q, q_pred)\n",
    "    rmse=np.sqrt(mse)\n",
    "    r2=r2_score(q,q_pred)\n",
    "    print('RMSE :', rmse)\n",
    "    print('R2 :', r2)\n",
    "new_predict_ols(df)"
   ]
  },
  {
   "cell_type": "markdown",
   "id": "f9867247",
   "metadata": {},
   "source": [
    "## 모델간 성능비교"
   ]
  },
  {
   "cell_type": "markdown",
   "id": "56220240",
   "metadata": {},
   "source": [
    "model2 vs model3 성능 비교"
   ]
  },
  {
   "cell_type": "code",
   "execution_count": 17,
   "id": "eee5986a",
   "metadata": {},
   "outputs": [
    {
     "data": {
      "text/html": [
       "<div>\n",
       "<style scoped>\n",
       "    .dataframe tbody tr th:only-of-type {\n",
       "        vertical-align: middle;\n",
       "    }\n",
       "\n",
       "    .dataframe tbody tr th {\n",
       "        vertical-align: top;\n",
       "    }\n",
       "\n",
       "    .dataframe thead th {\n",
       "        text-align: right;\n",
       "    }\n",
       "</style>\n",
       "<table border=\"1\" class=\"dataframe\">\n",
       "  <thead>\n",
       "    <tr style=\"text-align: right;\">\n",
       "      <th></th>\n",
       "      <th>model2</th>\n",
       "      <th>model3</th>\n",
       "    </tr>\n",
       "    <tr>\n",
       "      <th>Unnamed: 0</th>\n",
       "      <th></th>\n",
       "      <th></th>\n",
       "    </tr>\n",
       "  </thead>\n",
       "  <tbody>\n",
       "    <tr>\n",
       "      <th>R-squared</th>\n",
       "      <td>0.7810</td>\n",
       "      <td>0.7830</td>\n",
       "    </tr>\n",
       "    <tr>\n",
       "      <th>AIC</th>\n",
       "      <td>620.4000</td>\n",
       "      <td>618.5000</td>\n",
       "    </tr>\n",
       "    <tr>\n",
       "      <th>BIC</th>\n",
       "      <td>636.1000</td>\n",
       "      <td>631.5000</td>\n",
       "    </tr>\n",
       "    <tr>\n",
       "      <th>RMSE</th>\n",
       "      <td>5.0695</td>\n",
       "      <td>5.0699</td>\n",
       "    </tr>\n",
       "    <tr>\n",
       "      <th>R2</th>\n",
       "      <td>0.7920</td>\n",
       "      <td>0.7920</td>\n",
       "    </tr>\n",
       "  </tbody>\n",
       "</table>\n",
       "</div>"
      ],
      "text/plain": [
       "              model2    model3\n",
       "Unnamed: 0                    \n",
       "R-squared     0.7810    0.7830\n",
       "AIC         620.4000  618.5000\n",
       "BIC         636.1000  631.5000\n",
       "RMSE          5.0695    5.0699\n",
       "R2            0.7920    0.7920"
      ]
     },
     "execution_count": 17,
     "metadata": {},
     "output_type": "execute_result"
    }
   ],
   "source": [
    "model_compare=pd.read_excel('C:/portfolio/code/week3/day5/model_compare.xlsx')\n",
    "model_compare.set_index('Unnamed: 0', inplace=True)\n",
    "model_compare"
   ]
  },
  {
   "cell_type": "markdown",
   "id": "f728992c",
   "metadata": {},
   "source": [
    "## model3 잔차 분석"
   ]
  },
  {
   "cell_type": "code",
   "execution_count": 19,
   "id": "92e94d35",
   "metadata": {},
   "outputs": [
    {
     "data": {
      "image/png": "[encoded data removed]",
      "text/plain": [
       "<Figure size 1500x500 with 3 Axes>"
      ]
     },
     "metadata": {},
     "output_type": "display_data"
    }
   ],
   "source": [
    "import matplotlib.pyplot as plt\n",
    "import matplotlib\n",
    "import scipy.stats as stats\n",
    "import statsmodels.api as sm\n",
    "import seaborn as sns\n",
    "\n",
    "matplotlib.rc('font', family='Malgun Gothic')\n",
    "matplotlib.rcParams['axes.unicode_minus']=False\n",
    "\n",
    "residuals=q-q_pred\n",
    "\n",
    "def residual_visual(df):\n",
    "    plt.figure(figsize=(15,5))\n",
    "\n",
    "    plt.subplot(1,3,1)\n",
    "    sns.histplot(residuals, bins=20, kde=True)\n",
    "    plt.title('잔차 분포 히스토그램')\n",
    "    plt.xlabel('잔차')\n",
    "    plt.ylabel('빈도')\n",
    "\n",
    "    plt.subplot(1,3,2)\n",
    "    sm.qqplot(residuals,fit=True, line='45', ax=plt.gca())\n",
    "    plt.title('잔차 q-q plot')\n",
    "    \n",
    "    plt.subplot(1,3,3)\n",
    "    plt.scatter(q_pred, residuals)\n",
    "    plt.axhline(0, color='red', linestyle='--')\n",
    "    plt.title('예측값 vs 잔차')\n",
    "    plt.xlabel('예측값')\n",
    "    plt.ylabel('잔차')\n",
    "\n",
    "    plt.tight_layout()\n",
    "    plt.show()\n",
    "residual_visual(df)"
   ]
  }
 ],
 "metadata": {
  "kernelspec": {
   "display_name": "Python 3",
   "language": "python",
   "name": "python3"
  },
  "language_info": {
   "codemirror_mode": {
    "name": "ipython",
    "version": 3
   },
   "file_extension": ".py",
   "mimetype": "text/x-python",
   "name": "python",
   "nbconvert_exporter": "python",
   "pygments_lexer": "ipython3",
   "version": "3.13.5"
  }
 },
 "nbformat": 4,
 "nbformat_minor": 5
}
